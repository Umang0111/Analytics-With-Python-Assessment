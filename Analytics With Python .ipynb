{
 "cells": [
  {
   "cell_type": "code",
   "execution_count": 2,
   "id": "56acfaee-680d-46b3-93c2-4ae7de7d65d3",
   "metadata": {},
   "outputs": [
    {
     "name": "stdin",
     "output_type": "stream",
     "text": [
      "enter any number 5\n"
     ]
    },
    {
     "name": "stdout",
     "output_type": "stream",
     "text": [
      "it is positive\n"
     ]
    }
   ],
   "source": [
    "# que:1. python program to check number is positive or negative.\n",
    "num=int(input('enter any number'))\n",
    "if num<=0:\n",
    "    if num==0:\n",
    "        print('it is zero')\n",
    "    else:\n",
    "        print('it is negative')\n",
    "else:\n",
    "    print('it is positive')"
   ]
  },
  {
   "cell_type": "code",
   "execution_count": 3,
   "id": "49e2e6c2-8f89-4dba-9489-3445b11d4410",
   "metadata": {},
   "outputs": [
    {
     "name": "stdin",
     "output_type": "stream",
     "text": [
      "enter the number 5\n"
     ]
    },
    {
     "name": "stdout",
     "output_type": "stream",
     "text": [
      "120\n"
     ]
    }
   ],
   "source": [
    "# que:2. python program to get the factorial number of given number.\n",
    "num=int(input('enter the number'))\n",
    "n=1\n",
    "for i in range(num,0,-1):\n",
    "    n=n*i\n",
    "print(n)\n",
    "     "
   ]
  },
  {
   "cell_type": "code",
   "execution_count": 4,
   "id": "bd1330d5-830b-40d5-ba48-8c63791c8d95",
   "metadata": {},
   "outputs": [
    {
     "name": "stdin",
     "output_type": "stream",
     "text": [
      "enter the number 3\n"
     ]
    },
    {
     "name": "stdout",
     "output_type": "stream",
     "text": [
      "3 is odd number\n"
     ]
    }
   ],
   "source": [
    "# que:3. python program to find whether the given number is even or odd.\n",
    "num=int(input('enter the number'))\n",
    "if num%2==0:\n",
    "    print(num, 'is even number')\n",
    "else:\n",
    "    print(num, 'is odd number')"
   ]
  },
  {
   "cell_type": "code",
   "execution_count": 5,
   "id": "5aee8520-6cc8-4a2b-8d8c-28fd2c9758e1",
   "metadata": {},
   "outputs": [
    {
     "name": "stdin",
     "output_type": "stream",
     "text": [
      "enter any letter i\n"
     ]
    },
    {
     "name": "stdout",
     "output_type": "stream",
     "text": [
      "i is vowel letter\n"
     ]
    }
   ],
   "source": [
    "# que:4. python program to find the letter is vowel or not.\n",
    "num=input('enter any letter')\n",
    "if num in ('aeiouAEIOU'):\n",
    "    print(num, 'is vowel letter')\n",
    "else:\n",
    "    print(num, 'is not vowel')"
   ]
  },
  {
   "cell_type": "code",
   "execution_count": 7,
   "id": "cc2218c5-6e25-45a2-ab9b-42724a149cf5",
   "metadata": {},
   "outputs": [
    {
     "name": "stdin",
     "output_type": "stream",
     "text": [
      "enter the first number 5\n",
      "enter the second number 3\n",
      "enter the third number 5\n"
     ]
    },
    {
     "name": "stdout",
     "output_type": "stream",
     "text": [
      "zero\n"
     ]
    }
   ],
   "source": [
    "# que:5. Write a Python program to sum of three given integers.However, if two values are equal sum \n",
    "# will be zero.\n",
    "num1=int(input('enter the first number'))\n",
    "num2=int(input('enter the second number'))\n",
    "num3=int(input('enter the third number'))\n",
    "if num1==num2 or num1==num3 or num2==num3:\n",
    "    print('zero')\n",
    "else:\n",
    "    sum=num1+num2+num3\n",
    "    print(sum)"
   ]
  },
  {
   "cell_type": "code",
   "execution_count": 8,
   "id": "8f5c659f-571e-4c9a-b918-6eb28b0d857d",
   "metadata": {},
   "outputs": [
    {
     "name": "stdin",
     "output_type": "stream",
     "text": [
      "enter ther number 6\n",
      "enter the number 5\n"
     ]
    },
    {
     "name": "stdout",
     "output_type": "stream",
     "text": [
      "5\n",
      "6\n"
     ]
    }
   ],
   "source": [
    "# que:6. python program that swap two number with temp variable and without temp variable.\n",
    "a=int(input('enter ther number'))\n",
    "b=int(input('enter the number'))\n",
    "if a!=b:\n",
    "    if a>b or a<b:\n",
    "        a=a+b\n",
    "        b=a-b\n",
    "        a=a-b\n",
    "print(a)\n",
    "print(b)"
   ]
  },
  {
   "cell_type": "code",
   "execution_count": 9,
   "id": "e595c23b-ae33-4261-903f-eb2788c26942",
   "metadata": {},
   "outputs": [
    {
     "name": "stdin",
     "output_type": "stream",
     "text": [
      "enter the number 5\n",
      "enter the number 10\n"
     ]
    },
    {
     "name": "stdout",
     "output_type": "stream",
     "text": [
      "False\n"
     ]
    }
   ],
   "source": [
    "# que:7. python program that will return true if two given integervalues are equal or their sum or \n",
    "# difference is 5.\n",
    "a=int(input('enter the number'))\n",
    "b=int(input('enter the number'))\n",
    "c=False\n",
    "if a==b or a+b==5 or a-b==5:\n",
    "    c = True\n",
    "    print(c)\n",
    "else:\n",
    "    print(c)"
   ]
  },
  {
   "cell_type": "code",
   "execution_count": 10,
   "id": "11ab0dcc-e054-49a8-99ba-95c4a3739d2d",
   "metadata": {},
   "outputs": [
    {
     "name": "stdin",
     "output_type": "stream",
     "text": [
      "enter the number 8\n"
     ]
    },
    {
     "name": "stdout",
     "output_type": "stream",
     "text": [
      "36\n"
     ]
    }
   ],
   "source": [
    "# que:8. python program to sum of the first n positive integers.\n",
    "num=int(input('enter the number'))\n",
    "m=0\n",
    "for i in range(1,num+1):\n",
    "    m=m+i\n",
    "print(m)"
   ]
  },
  {
   "cell_type": "code",
   "execution_count": 11,
   "id": "9194fe21-b42c-4194-bdfb-159e959d88ba",
   "metadata": {},
   "outputs": [
    {
     "name": "stdin",
     "output_type": "stream",
     "text": [
      "enter the number 5\n"
     ]
    },
    {
     "name": "stdout",
     "output_type": "stream",
     "text": [
      "prime\n"
     ]
    }
   ],
   "source": [
    "# que:9. python program to check whether the number is prime or not.\n",
    "num=int(input('enter the number'))\n",
    "for i in range(2,num+1):\n",
    "    if i<num and num%i==0:\n",
    "        print('not prime')\n",
    "        break\n",
    "    if i==num and num%i==0:\n",
    "        print('prime')\n",
    "        break\n",
    "if num<=1 and num>0:\n",
    "    print('prime') \n",
    "if num==0:\n",
    "    print('whole number')"
   ]
  },
  {
   "cell_type": "code",
   "execution_count": 12,
   "id": "c315189f-c5c4-4bd6-be3e-1c17b925a565",
   "metadata": {},
   "outputs": [
    {
     "name": "stdin",
     "output_type": "stream",
     "text": [
      "enter the number 4\n"
     ]
    },
    {
     "name": "stdout",
     "output_type": "stream",
     "text": [
      "0\n",
      "1\n",
      "1\n",
      "2\n",
      "3\n"
     ]
    }
   ],
   "source": [
    "# que:10. python program to get the fibonacci seriesif given range.\n",
    "num=int(input('enter the number'))\n",
    "a=0\n",
    "b=1\n",
    "if a==num:\n",
    "    print(a)\n",
    "else:\n",
    "    print(a)\n",
    "    print(b)\n",
    "    for i in range(2,num+1):\n",
    "        c=a+b\n",
    "        a=b\n",
    "        b=c\n",
    "        print(c)\n",
    "    "
   ]
  },
  {
   "cell_type": "code",
   "execution_count": null,
   "id": "74e2f396-005e-464d-98bb-b09102c5c07a",
   "metadata": {},
   "outputs": [],
   "source": [
    "# que:11. what is the purpose of continue statement in python?\n",
    "# ans. In python the purpose of continue statement is to leave the current iteration and start next \n",
    "#     iteration or continue from next iteration."
   ]
  },
  {
   "cell_type": "code",
   "execution_count": 13,
   "id": "52bd9dbb-db35-4dad-b4de-8fd20332bd21",
   "metadata": {},
   "outputs": [
    {
     "name": "stdin",
     "output_type": "stream",
     "text": [
      "enter any string.\n",
      " umang patel\n"
     ]
    },
    {
     "name": "stdout",
     "output_type": "stream",
     "text": [
      "u : 1\n",
      "m : 1\n",
      "a : 2\n",
      "n : 1\n",
      "g : 1\n",
      "p : 1\n",
      "a : 2\n",
      "t : 1\n",
      "e : 1\n",
      "l : 1\n"
     ]
    }
   ],
   "source": [
    "# que:12. python program to count the number of character (character of frequency) in a string.\n",
    "num=input('enter any string.\\n')\n",
    "for i in num:\n",
    "    if i.isalpha():\n",
    "        s=num.count(i)\n",
    "        print(i, ':',  s)"
   ]
  },
  {
   "cell_type": "code",
   "execution_count": 14,
   "id": "1fea12dd-2a7c-4900-9d06-54c61240736b",
   "metadata": {},
   "outputs": [
    {
     "name": "stdin",
     "output_type": "stream",
     "text": [
      "enter the string.\n",
      " umang\n"
     ]
    },
    {
     "name": "stdout",
     "output_type": "stream",
     "text": [
      "the length of your string is 5 .\n"
     ]
    }
   ],
   "source": [
    "# que:13. python program to calculate the length of the string.\n",
    "string=input('enter the string.' + '\\n')\n",
    "sts=len(string)\n",
    "print('the length of your string is',sts,'.')"
   ]
  },
  {
   "cell_type": "code",
   "execution_count": 15,
   "id": "27063c4e-60eb-4230-a3c4-a1ea050582cc",
   "metadata": {},
   "outputs": [
    {
     "name": "stdin",
     "output_type": "stream",
     "text": [
      "enter the string.\n",
      " umang patel umang\n",
      "enter the substring.\n",
      " umang\n"
     ]
    },
    {
     "name": "stdout",
     "output_type": "stream",
     "text": [
      "2\n"
     ]
    }
   ],
   "source": [
    "# quue:14. python program to count the occurrences of a substring in a string.\n",
    "num=input('enter the string.\\n')\n",
    "cw=input('enter the substring.\\n')\n",
    "ans=num.count(cw)\n",
    "print(ans)"
   ]
  },
  {
   "cell_type": "code",
   "execution_count": null,
   "id": "056120bb-8699-445e-b1e2-2c08c1ef9ab9",
   "metadata": {},
   "outputs": [],
   "source": [
    "# que:15. What are negative indexes and why are they used?\n",
    "# ans. Negative Indexing is to begin slicing from the end of the string. Slicing in Python gets \n",
    "# a sub-string from a string. It is generally used to find the index value of a character or element.\n",
    "# For the last element/ character it starts from -1."
   ]
  },
  {
   "cell_type": "code",
   "execution_count": 17,
   "id": "bf6cdca7-6be2-40df-b6d7-3ca1c0fa3fa9",
   "metadata": {},
   "outputs": [
    {
     "name": "stdin",
     "output_type": "stream",
     "text": [
      "enter any string.\n",
      " umang patel umang\n"
     ]
    },
    {
     "name": "stdout",
     "output_type": "stream",
     "text": [
      "umang : 2\n",
      "patel : 1\n",
      "umang : 2\n"
     ]
    }
   ],
   "source": [
    "# que:16. python program to count the occurrences of each word in a given string. \n",
    "num=input('enter any string.\\n')\n",
    "spl=num.split()\n",
    "for i in spl:\n",
    "    sts=num.count(i)\n",
    "    sts1=i\n",
    "    print(sts1,':',sts)"
   ]
  },
  {
   "cell_type": "code",
   "execution_count": 19,
   "id": "49231506-7ec3-43b0-b29c-2b9be8e37071",
   "metadata": {},
   "outputs": [
    {
     "name": "stdin",
     "output_type": "stream",
     "text": [
      "enter the first string.\n",
      "1. umang\n",
      "enter the second string.\n",
      "2. vilash\n"
     ]
    },
    {
     "name": "stdout",
     "output_type": "stream",
     "text": [
      "answer:-\n",
      "viang umlash\n"
     ]
    }
   ],
   "source": [
    "# que:17. Write a Python program to get a single string from two given strings,separated by a space \n",
    "# and swap the first two characters of each string.\n",
    "l1=input('enter the first string.\\n1.')\n",
    "l2=input('enter the second string.\\n2.')\n",
    "str1=l1[0:2]\n",
    "str2=l2[0:2]\n",
    "ans=l1.replace(str1,str2)\n",
    "ans1=l2.replace(str2,str1)\n",
    "ans2=f'{ans} {ans1}'\n",
    "print('answer:-\\n'+ans2)"
   ]
  },
  {
   "cell_type": "code",
   "execution_count": 20,
   "id": "998788cf-fb4a-4e98-b29a-cbd95d91ea53",
   "metadata": {},
   "outputs": [
    {
     "name": "stdin",
     "output_type": "stream",
     "text": [
      "enter the string\n",
      " running\n"
     ]
    },
    {
     "name": "stdout",
     "output_type": "stream",
     "text": [
      "runnly\n"
     ]
    }
   ],
   "source": [
    "#que:18. Write a Python program to add 'ing' at the end of a given string (length should be at\n",
    "# least 3). If the given string already ends with 'ing' then add 'ly' instead. if the string \n",
    "# length of the given string is less than 3, leave it unchanged.\n",
    "str1=input('enter the string\\n') \n",
    "i='ing' \n",
    "w=str1.endswith('ing') \n",
    "if len(str1)>=3 and str1.endswith('ing'):\n",
    "    str3=str1.replace('ing','ly')\n",
    "    print(str3) \n",
    "elif len(str1)>=3 and str1!=w:\n",
    "    str2=f'{str1}{i}' \n",
    "    print(str2) \n",
    "if len(str1)<3:\n",
    "    print(str1)"
   ]
  },
  {
   "cell_type": "code",
   "execution_count": 21,
   "id": "44d84779-8d8f-41ff-ac4a-9f76f4139854",
   "metadata": {},
   "outputs": [
    {
     "name": "stdin",
     "output_type": "stream",
     "text": [
      "enter the string.\n",
      " someone is not rich but poor poor poor ramesh\n"
     ]
    },
    {
     "name": "stdout",
     "output_type": "stream",
     "text": [
      "someone is good ramesh\n"
     ]
    }
   ],
   "source": [
    "#que:19. Write a Python program to find the first appearance of the substring 'not'and 'poor' from a \n",
    "# given string, if 'not' follows the 'poor', replace the whole 'not'...'poor'substring with 'good'. \n",
    "# Return the resulting string.\n",
    "sts=input('enter the string.\\n')\n",
    "a=sts.index('not')\n",
    "a1=sts.rindex('poor')\n",
    "b=a1+4\n",
    "l=sts[a:b]\n",
    "a2=sts.replace(l,'good')\n",
    "if a<a1:\n",
    "    print(a2)"
   ]
  },
  {
   "cell_type": "code",
   "execution_count": 22,
   "id": "0535671d-6086-4d57-9ee1-ecf3c495e67b",
   "metadata": {},
   "outputs": [
    {
     "name": "stdin",
     "output_type": "stream",
     "text": [
      "enter the list of few word.\n",
      " umang vilash chintan dhaval\n"
     ]
    },
    {
     "name": "stdout",
     "output_type": "stream",
     "text": [
      "['umang', 'vilash', 'chintan', 'dhaval']\n",
      "chintan : 7\n"
     ]
    }
   ],
   "source": [
    "# que:20. Write a Python function that takes a list of words and returns the length\n",
    "# of the longest one.\n",
    "l=input('enter the list of few word.\\n')\n",
    "l1=l.split()\n",
    "l2=0\n",
    "l3=0\n",
    "print(l1)\n",
    "for i in l1:\n",
    "    if len(i)>l2:\n",
    "        l2=len(i)\n",
    "        name=i\n",
    "    else:\n",
    "        if len(i)<l2:\n",
    "            l3=len(i)\n",
    "print(name,':',l2)"
   ]
  },
  {
   "cell_type": "code",
   "execution_count": 24,
   "id": "b5a5ca6d-8270-480c-a260-1da77997c9a5",
   "metadata": {},
   "outputs": [
    {
     "name": "stdin",
     "output_type": "stream",
     "text": [
      "enter the word.\n",
      " umang patell\n"
     ]
    },
    {
     "name": "stdout",
     "output_type": "stream",
     "text": [
      "lletap gnamu\n"
     ]
    }
   ],
   "source": [
    "# que:21 Write a Python function to reverses a string if its length is a multiple of 4.\n",
    "st1=input('enter the word.\\n')\n",
    "st2=len(st1)\n",
    "if st2%4==0:\n",
    "    print(st1[::-1])"
   ]
  },
  {
   "cell_type": "code",
   "execution_count": 25,
   "id": "fecbb0d9-7966-4d82-a249-f5b93dbe77a6",
   "metadata": {},
   "outputs": [
    {
     "name": "stdin",
     "output_type": "stream",
     "text": [
      "enter the string.\n",
      " umang\n"
     ]
    },
    {
     "name": "stdout",
     "output_type": "stream",
     "text": [
      "umng\n"
     ]
    }
   ],
   "source": [
    "#que:22. Write a Python program to get a string made of the first 2 and the last 2chars from a given\n",
    "# a string.Ifthe string length islessthan 2,return instead of the empty string.\n",
    "sta=input('enter the string.\\n')\n",
    "len1=len(sta)\n",
    "ch1=sta[0:2]\n",
    "ch2=sta[-2::]\n",
    "if len1<2:\n",
    "    print('empty string.')\n",
    "elif len1<3 and len1>1:\n",
    "    print(sta)\n",
    "elif len1>=3:\n",
    "    print(ch1,ch2,sep='')"
   ]
  },
  {
   "cell_type": "code",
   "execution_count": 26,
   "id": "a3e979a7-cc76-4d47-9804-78fed3470c6f",
   "metadata": {},
   "outputs": [
    {
     "name": "stdin",
     "output_type": "stream",
     "text": [
      "enter the first string.\n",
      " umang\n",
      "enter the second string.\n",
      " patel\n"
     ]
    },
    {
     "name": "stdout",
     "output_type": "stream",
     "text": [
      "umpatelang\n"
     ]
    }
   ],
   "source": [
    "# que:23. write a Python function to insert a string in the middle of a string.\n",
    "sts=input('enter the first string.\\n')\n",
    "sts1=input('enter the second string.\\n')\n",
    "ans=len(sts)//2\n",
    "ans1=sts[:ans:]\n",
    "ans2=sts[ans::]\n",
    "if ans%2==0:\n",
    "    ans3=f'{ans1}{sts1}{ans2}'\n",
    "    print(ans3)\n",
    "elif ans%2!=0:\n",
    "    print(ans1,sts1,ans2,sep=' ')"
   ]
  },
  {
   "cell_type": "code",
   "execution_count": null,
   "id": "245c1f88-3e06-4087-bc57-a8f263ee4445",
   "metadata": {},
   "outputs": [],
   "source": []
  }
 ],
 "metadata": {
  "kernelspec": {
   "display_name": "Python 3 (ipykernel)",
   "language": "python",
   "name": "python3"
  },
  "language_info": {
   "codemirror_mode": {
    "name": "ipython",
    "version": 3
   },
   "file_extension": ".py",
   "mimetype": "text/x-python",
   "name": "python",
   "nbconvert_exporter": "python",
   "pygments_lexer": "ipython3",
   "version": "3.11.2"
  }
 },
 "nbformat": 4,
 "nbformat_minor": 5
}
